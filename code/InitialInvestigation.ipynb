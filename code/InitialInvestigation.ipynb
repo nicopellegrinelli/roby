{
 "cells": [
  {
   "cell_type": "markdown",
   "id": "8b4acfec",
   "metadata": {},
   "source": [
    "# Initial Investigations: Neural Networks with Uncertainty\n",
    "\n",
    "This notebook explores building neural networks that provide uncertainty estimates and evaluates metrics that leverage these uncertainty measures."
   ]
  },
  {
   "cell_type": "markdown",
   "id": "5264b264",
   "metadata": {},
   "source": [
    "## Importing all the libraries"
   ]
  },
  {
   "cell_type": "code",
   "execution_count": 392,
   "id": "58ef2583",
   "metadata": {},
   "outputs": [],
   "source": [
    "import numpy as np\n",
    "import matplotlib.pyplot as plt\n",
    "import keras\n",
    "from keras.layers import Dense, Dropout\n",
    "from keras.datasets.mnist import load_data\n",
    "from keras.utils import to_categorical\n",
    "from math import log\n"
   ]
  },
  {
   "cell_type": "markdown",
   "id": "01c9c50f",
   "metadata": {},
   "source": [
    "## Loading the dataset"
   ]
  },
  {
   "cell_type": "code",
   "execution_count": 393,
   "id": "aecec1bb",
   "metadata": {},
   "outputs": [],
   "source": [
    "(x_train, y_train), (x_test, y_test) = load_data(\"mnist.npz\")\n",
    "# Normalize the data\n",
    "x_train = x_train.astype(\"float32\") / 255\n",
    "x_test = x_test.astype(\"float32\") / 255\n",
    "# Flatten the data (from 28x28 to 784)\n",
    "flattened_input_shape = x_train[0].shape[0] * x_train[0].shape[1]\n",
    "x_train = x_train.reshape((x_train.shape[0], flattened_input_shape))\n",
    "x_test = x_test.reshape((x_test.shape[0], flattened_input_shape))\n",
    "# Convert labels to one-hot encoding (needed for categorical crossentropy)\n",
    "n_classes = len(np.unique(y_train))\n",
    "y_train = to_categorical(y_train, n_classes)\n",
    "y_test = to_categorical(y_test, n_classes)"
   ]
  },
  {
   "cell_type": "markdown",
   "id": "508ab1f2",
   "metadata": {},
   "source": [
    "## Building the model"
   ]
  },
  {
   "cell_type": "code",
   "execution_count": 394,
   "id": "e89fcc2b",
   "metadata": {},
   "outputs": [],
   "source": [
    "model = keras.Sequential([\n",
    "    Dense(units=16, input_shape=(flattened_input_shape,), activation=\"relu\"), # hidden layer\n",
    "    Dropout(0.5), # dropout to previous layer\n",
    "    Dense(units=16, activation=\"relu\"), # hidden layer\n",
    "    Dense(units=n_classes, activation=\"softmax\"), # output layer\n",
    "])"
   ]
  },
  {
   "cell_type": "markdown",
   "id": "63c005af",
   "metadata": {},
   "source": [
    "## Compiling the model"
   ]
  },
  {
   "cell_type": "code",
   "execution_count": 395,
   "id": "ee3b1788",
   "metadata": {},
   "outputs": [],
   "source": [
    "model.compile(\n",
    "    optimizer=\"adam\",\n",
    "    loss=\"categorical_crossentropy\",\n",
    "    metrics=[\"accuracy\"]\n",
    ")"
   ]
  },
  {
   "cell_type": "markdown",
   "id": "a1e5d2bd",
   "metadata": {},
   "source": [
    "## Training the model"
   ]
  },
  {
   "cell_type": "code",
   "execution_count": 396,
   "id": "6a8d025c",
   "metadata": {},
   "outputs": [
    {
     "name": "stdout",
     "output_type": "stream",
     "text": [
      "Epoch 1/10\n",
      "750/750 [==============================] - 1s 673us/step - loss: 1.2549 - accuracy: 0.5544 - val_loss: 0.5052 - val_accuracy: 0.8876\n",
      "Epoch 2/10\n",
      "750/750 [==============================] - 0s 567us/step - loss: 0.8951 - accuracy: 0.6882 - val_loss: 0.4108 - val_accuracy: 0.9038\n",
      "Epoch 3/10\n",
      "750/750 [==============================] - 0s 578us/step - loss: 0.8378 - accuracy: 0.7104 - val_loss: 0.3803 - val_accuracy: 0.9048\n",
      "Epoch 4/10\n",
      "750/750 [==============================] - 0s 574us/step - loss: 0.8179 - accuracy: 0.7202 - val_loss: 0.3767 - val_accuracy: 0.9060\n",
      "Epoch 5/10\n",
      "750/750 [==============================] - 0s 589us/step - loss: 0.7972 - accuracy: 0.7287 - val_loss: 0.3494 - val_accuracy: 0.9105\n",
      "Epoch 6/10\n",
      "750/750 [==============================] - 0s 579us/step - loss: 0.7729 - accuracy: 0.7408 - val_loss: 0.3440 - val_accuracy: 0.9111\n",
      "Epoch 7/10\n",
      "750/750 [==============================] - 0s 591us/step - loss: 0.7532 - accuracy: 0.7476 - val_loss: 0.3359 - val_accuracy: 0.9139\n",
      "Epoch 8/10\n",
      "750/750 [==============================] - 0s 583us/step - loss: 0.7492 - accuracy: 0.7510 - val_loss: 0.3309 - val_accuracy: 0.9143\n",
      "Epoch 9/10\n",
      "750/750 [==============================] - 0s 587us/step - loss: 0.7303 - accuracy: 0.7589 - val_loss: 0.3279 - val_accuracy: 0.9133\n",
      "Epoch 10/10\n",
      "750/750 [==============================] - 0s 586us/step - loss: 0.7317 - accuracy: 0.7593 - val_loss: 0.3259 - val_accuracy: 0.9098\n"
     ]
    }
   ],
   "source": [
    "history = model.fit(x_train, y_train, epochs=10, batch_size=64, validation_split=0.2)"
   ]
  },
  {
   "cell_type": "code",
   "execution_count": 397,
   "id": "6b61d8ca",
   "metadata": {},
   "outputs": [
    {
     "data": {
      "image/png": "[encoded data removed]",
      "text/plain": [
       "<Figure size 640x480 with 1 Axes>"
      ]
     },
     "metadata": {},
     "output_type": "display_data"
    }
   ],
   "source": [
    "# Plot trainininng vs validation accuracy\n",
    "plt.plot(history.history['accuracy'], label='Train acc')\n",
    "plt.plot(history.history['val_accuracy'], label='Val acc')\n",
    "plt.xlabel('Epoch')\n",
    "plt.ylabel('Accuracy')\n",
    "plt.legend()\n",
    "plt.title('Training vs Validation Accuracy')\n",
    "plt.show()"
   ]
  },
  {
   "cell_type": "markdown",
   "id": "b714ea69",
   "metadata": {},
   "source": [
    "## Computing uncecrtainty as entropy on some examples"
   ]
  },
  {
   "cell_type": "code",
   "execution_count": 398,
   "id": "896b8cb2",
   "metadata": {},
   "outputs": [],
   "source": [
    "# Compute the normalized entropy as uncerainty measure given a list of probabilities\n",
    "def compute_entropy(prediction):\n",
    "    entropy = 0\n",
    "    for prob in prediction:\n",
    "        if prob > 0:\n",
    "            entropy += -prob*log(prob)\n",
    "    entropy = entropy / log(len(prediction)) # Normalize entropy to get uncertainty\n",
    "    return entropy"
   ]
  },
  {
   "cell_type": "code",
   "execution_count": 399,
   "id": "ec1b465b",
   "metadata": {},
   "outputs": [],
   "source": [
    "# Predict and compute the entropy (i.e., the uncertainty) for the given input\n",
    "def predict_with_entropy(x):\n",
    "    x = np.expand_dims(x, axis=0)  # adds batch dimension in position 0\n",
    "    prediction = model.predict(x)[0] # x has to have batch dimension\n",
    "    output = np.argmax(prediction)\n",
    "    uncertainty = compute_entropy(prediction)\n",
    "    return output, uncertainty"
   ]
  },
  {
   "cell_type": "code",
   "execution_count": 400,
   "id": "5ab2855c",
   "metadata": {},
   "outputs": [
    {
     "name": "stdout",
     "output_type": "stream",
     "text": [
      "-- Entropy --\n",
      "Example 0:\n",
      "\tActual label: 7 - Prediction: 7\n",
      "\tUncertainty: 0.78%\n",
      "Example 1:\n",
      "\tActual label: 2 - Prediction: 2\n",
      "\tUncertainty: 0.48%\n",
      "Example 2:\n",
      "\tActual label: 1 - Prediction: 1\n",
      "\tUncertainty: 9.96%\n",
      "Example 3:\n",
      "\tActual label: 0 - Prediction: 0\n",
      "\tUncertainty: 1.54%\n"
     ]
    }
   ],
   "source": [
    "# Compute the entropy (i.e., the uncertainty) for the first 4 images in the dataset\n",
    "print(\"-- Entropy --\")\n",
    "for i in range(4):\n",
    "    output, uncertainty = predict_with_entropy(x_test[i])\n",
    "    actual = np.argmax(y_test[i])\n",
    "    print(f\"Example {i}:\")\n",
    "    print(f\"\\tActual label: {actual} - Prediction: {output}\")\n",
    "    print(f\"\\tUncertainty: {uncertainty*100:.2f}%\")"
   ]
  },
  {
   "cell_type": "code",
   "execution_count": 401,
   "id": "a1c99146",
   "metadata": {},
   "outputs": [
    {
     "data": {
      "image/png": "[encoded data removed]",
      "text/plain": [
       "<Figure size 640x480 with 1 Axes>"
      ]
     },
     "metadata": {},
     "output_type": "display_data"
    }
   ],
   "source": [
    "# Compute entropy for image 8 in the dataset, that shows to be complex to be predicted\n",
    "output, uncertainty = predict_with_entropy(x_test[8])\n",
    "actual = np.argmax(y_test[8])\n",
    "# Plot the image\n",
    "plt.imshow(x_test[8].reshape(28, 28), cmap='gray')\n",
    "plt.title(f\"Example 8\\nActual label: {actual} - Prediction: {output}\\nEntropy Uncertainty: {uncertainty*100:.2f}%\")\n",
    "plt.axis('off')\n",
    "plt.show()"
   ]
  },
  {
   "cell_type": "markdown",
   "id": "30fb1048",
   "metadata": {},
   "source": [
    "## Computing uncertainty using dropout on some examples"
   ]
  },
  {
   "cell_type": "code",
   "execution_count": 402,
   "id": "14abbb79",
   "metadata": {},
   "outputs": [],
   "source": [
    "# Predict using Monte Carlo Dropout, also compute uncertainty as standard deviation \n",
    "def mc_dropout_prediction(model, x):\n",
    "    x = np.expand_dims(x, axis=0)  # adds batch dimension in position 0\n",
    "    prediction = np.array([model(x, training=True)[0] for _ in range(10)]) # run ten times enabling dropout\n",
    "    mean = np.mean(prediction, axis=0)\n",
    "    output = np.argmax(mean)\n",
    "    # Take the max probability for each run (usually associated with the same class)\n",
    "    # and compute the standard deviation as uncerainty measure\n",
    "    max_probs = np.max(prediction, axis=1)\n",
    "    uncertainty = np.std(max_probs)\n",
    "    return mean, uncertainty"
   ]
  },
  {
   "cell_type": "code",
   "execution_count": 403,
   "id": "76c54016",
   "metadata": {},
   "outputs": [
    {
     "name": "stdout",
     "output_type": "stream",
     "text": [
      "-- MC Dropout --\n",
      "Example 0:\n",
      "\tActual label: 7 - Prediction: 7\n",
      "\tUncertainty: 3.60%\n",
      "Example 1:\n",
      "\tActual label: 2 - Prediction: 2\n",
      "\tUncertainty: 21.63%\n",
      "Example 2:\n",
      "\tActual label: 1 - Prediction: 1\n",
      "\tUncertainty: 23.80%\n",
      "Example 3:\n",
      "\tActual label: 0 - Prediction: 0\n",
      "\tUncertainty: 23.75%\n"
     ]
    }
   ],
   "source": [
    "# Compute the uncertainty (with MC Dropout) for the first 4 images in the dataset\n",
    "print(\"-- MC Dropout --\")\n",
    "for i in range(4):\n",
    "    mean, uncertainty = mc_dropout_prediction(model, x=x_test[i])\n",
    "    actual = np.argmax(y_test[i])\n",
    "    output = np.argmax(mean)\n",
    "    print(f\"Example {i}:\")\n",
    "    print(f\"\\tActual label: {actual} - Prediction: {output}\")\n",
    "    print(f\"\\tUncertainty: {uncertainty*100:.2f}%\")"
   ]
  },
  {
   "cell_type": "code",
   "execution_count": 404,
   "id": "53beefb9",
   "metadata": {},
   "outputs": [
    {
     "data": {
      "image/png": "[encoded data removed]",
      "text/plain": [
       "<Figure size 640x480 with 1 Axes>"
      ]
     },
     "metadata": {},
     "output_type": "display_data"
    }
   ],
   "source": [
    "# Compute the uncertainty (with MC Dropout) for image 8 in the dataset, that shows to be complex to predict\n",
    "mean, uncertainty = mc_dropout_prediction(model, x_test[8])\n",
    "actual = np.argmax(y_test[8])\n",
    "output = np.argmax(mean)\n",
    "# Plot the image\n",
    "plt.imshow(x_test[8].reshape(28, 28), cmap='gray')\n",
    "plt.title(f\"Example 8\\nActual label: {actual} - Prediction: {output}\\nMC Dropout Uncertainty: {uncertainty*100:.2f}%\")\n",
    "plt.axis('off')\n",
    "plt.show()"
   ]
  },
  {
   "cell_type": "markdown",
   "id": "879720cd",
   "metadata": {},
   "source": [
    "## Computing proposed accuracy metrics on test dataset"
   ]
  },
  {
   "cell_type": "code",
   "execution_count": 405,
   "id": "23ff32ff",
   "metadata": {},
   "outputs": [],
   "source": [
    "# Compute the three accuracies given the predicted labels, the uncertainties, the correct labeks, and the threshold\n",
    "def compute_accuracies(predictions, uncertainty, correct_labels, threshold):\n",
    "    is_label_ok = [1 if np.argmax(pred) == np.argmax(actual) else 0 for pred, actual in zip(predictions, correct_labels)]\n",
    "    num_was, num_bomb, den_was = 0, 0, 0\n",
    "    for i in range(len(is_label_ok)):\n",
    "        num_bomb += is_label_ok[i] * (1-uncertainty[i]) + (1-is_label_ok[i]) * uncertainty[i]\n",
    "        if uncertainty[i] < threshold:\n",
    "            num_was += is_label_ok[i]\n",
    "            den_was += 1\n",
    "\n",
    "    acc_trad = sum(is_label_ok)/len(is_label_ok)\n",
    "    acc_bomb = num_bomb/len(is_label_ok)\n",
    "    if den_was > 0: \n",
    "        acc_was = num_was/den_was\n",
    "\n",
    "    print(f\"Traditional accuracy:\\t{acc_trad*100:.2f}%\")\n",
    "    print(f\"Bombarda accuracy:\\t{acc_bomb*100:.2f}%\")\n",
    "    if den_was > 0: \n",
    "        print(f\"Wasim accuracy:\\t\\t{acc_was*100:.2f}%\")\n",
    "    else:\n",
    "        print(f\"Wasim accuracy:\\t\\tundefined\")"
   ]
  },
  {
   "cell_type": "code",
   "execution_count": 406,
   "id": "9004f507",
   "metadata": {},
   "outputs": [
    {
     "name": "stdout",
     "output_type": "stream",
     "text": [
      "With entropy\n",
      "Traditional accuracy:\t91.08%\n",
      "Bombarda accuracy:\t80.28%\n",
      "Wasim accuracy:\t\t98.37%\n",
      "With MC Dropout\n",
      "Traditional accuracy:\t91.15%\n",
      "Bombarda accuracy:\t75.84%\n",
      "Wasim accuracy:\t\t91.08%\n"
     ]
    }
   ],
   "source": [
    "threshold = 0.3 # output labeled as unknown if uncertainty is greater than 30%\n",
    "\n",
    "# Predict deterministically using the model and compute uncertainty using entropy\n",
    "predictions = model.predict(x_test)\n",
    "uncertainty = [compute_entropy(x) for x in predictions]\n",
    "print(f\"With entropy\")\n",
    "compute_accuracies(predictions, uncertainty, y_test, threshold)\n",
    "\n",
    "# Predict non deterministically using MC Dropout, that also gives the uncetainty\n",
    "mc_dropout_results  = [mc_dropout_prediction(model, x) for x in x_test]\n",
    "predictions = [r[0] for r in mc_dropout_results ]\n",
    "uncertainty = [r[1] for r in mc_dropout_results ]\n",
    "print(f\"With MC Dropout\")\n",
    "compute_accuracies(predictions, uncertainty, y_test, threshold)"
   ]
  }
 ],
 "metadata": {
  "kernelspec": {
   "display_name": "env",
   "language": "python",
   "name": "python3"
  },
  "language_info": {
   "codemirror_mode": {
    "name": "ipython",
    "version": 3
   },
   "file_extension": ".py",
   "mimetype": "text/x-python",
   "name": "python",
   "nbconvert_exporter": "python",
   "pygments_lexer": "ipython3",
   "version": "3.8.6"
  }
 },
 "nbformat": 4,
 "nbformat_minor": 5
}
