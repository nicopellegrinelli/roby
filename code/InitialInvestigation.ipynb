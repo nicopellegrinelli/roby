{
 "cells": [
  {
   "cell_type": "markdown",
   "id": "8b4acfec",
   "metadata": {},
   "source": [
    "# Initial Investigations: Neural Networks with Uncertainty\n",
    "This notebook explores building neural networks that provide uncertainty measures and evaluates metrics that leverage those uncertainty measures to assess the model’s accuracy and robustness.\n",
    "\n",
    "Uncertainty measures collected in this notebook include:\n",
    "* *complement of the confidence score*: measures the complement of the model's maximum softmax probability, used as a proxy for certainty.\n",
    "* *predictive entropy*: measures the overall uncertainty in the predicted class distribution.\n",
    "* *predictive standard deviation*: captures variability in predictions over multiple stochastic predictions.\n",
    "\n",
    "Note that the first two measures require a single prediction for each test input, while the third one requires multiple predictions for the same test input, e.g., coming from **Monte Carlo Dropout** or **Ensemble**.\n",
    "\n",
    "These measures are used to define the following uncertainty based metrics:\n",
    "* *Area Under Uncertainty Receiver Operating Characteristic (AU-UROC)*: measures how well uncertainty separates correct and incorrect predictions. The ROC curve is constructed by varying a threshold on the uncertainty scores:\n",
    "    - Unknown on wrong rate: fraction of incorrect predictions flagged as unknown (i.e., uncertainty above the threshold).\n",
    "    - Unknown on correct rate: fraction of correct predictions flagged as unknown.\n",
    "* *Accuracy With Threshold*: computes the accuracy only with the predictions for which the uncertainty is under a user defined threshold.\n",
    "* *Uncertainty Weighted Accuracy*: computes a weighted accuracy where correct predictions are down-weighted and incorrect ones are up-weighted based on uncertainty.\n",
    "\n",
    "Note that the first metric (AU-UROC) is solely used to evaluate how uncertainty correlates with prediction errors. *Traditional* accuracy is also included as a baseline.\n",
    "\n",
    "The proposed metrics are then used to compute the model's robustness under distributional shifts or data corruption."
   ]
  },
  {
   "cell_type": "markdown",
   "id": "5264b264",
   "metadata": {},
   "source": [
    "## Importing all the libraries\n",
    "This section imports all required libraries for building and evaluating neural networks, handling data, and computing uncertainty measures and metrics. The core libraries include TensorFlow/Keras for modeling and NumPy for numerical operations."
   ]
  },
  {
   "cell_type": "code",
   "execution_count": 246,
   "id": "58ef2583",
   "metadata": {},
   "outputs": [],
   "source": [
    "import random\n",
    "from tabulate import tabulate\n",
    "import numpy as np\n",
    "import tensorflow as tf\n",
    "import matplotlib.pyplot as plt\n",
    "import keras\n",
    "from keras.layers import Dense, Dropout\n",
    "from keras.models import Sequential\n",
    "from keras.datasets.mnist import load_data\n",
    "from keras.utils import to_categorical\n",
    "from keras.backend import clear_session\n"
   ]
  },
  {
   "cell_type": "markdown",
   "id": "01c9c50f",
   "metadata": {},
   "source": [
    "## Loading the dataset\n",
    "The MNIST handwritten digit dataset is loaded and preprocessed. Input images are flattened and normalized to the range \\([0, 1]\\), and target labels are one-hot encoded to be compatible with categorical cross-entropy loss."
   ]
  },
  {
   "cell_type": "code",
   "execution_count": 247,
   "id": "aecec1bb",
   "metadata": {},
   "outputs": [
    {
     "name": "stdout",
     "output_type": "stream",
     "text": [
      "Training samples: 60000, Test samples: 10000\n",
      "Original image shape: 28x28\n",
      "Flattened input shape: 784\n",
      "Number of classes: 10\n"
     ]
    }
   ],
   "source": [
    "(x_train, y_train), (x_test, y_test) = load_data()\n",
    "# Normalize the data\n",
    "x_train = x_train.astype(\"float32\") / 255\n",
    "x_test = x_test.astype(\"float32\") / 255\n",
    "# Flatten the data (from 28x28 to 784)\n",
    "original_shape = x_train.shape[1:]\n",
    "flattened_input_shape = np.prod(x_train.shape[1:])\n",
    "x_train = x_train.reshape((x_train.shape[0], flattened_input_shape))\n",
    "x_test = x_test.reshape((x_test.shape[0], flattened_input_shape))\n",
    "# Convert labels to one-hot encoding (needed for categorical crossentropy)\n",
    "n_classes = len(np.unique(y_train))\n",
    "y_train = to_categorical(y_train, n_classes)\n",
    "y_test = to_categorical(y_test, n_classes)\n",
    "# Print dataset info\n",
    "print(f\"Training samples: {x_train.shape[0]}, Test samples: {x_test.shape[0]}\")\n",
    "print(f\"Original image shape: {original_shape[0]}x{original_shape[1]}\")\n",
    "print(f\"Flattened input shape: {flattened_input_shape}\")\n",
    "print(f\"Number of classes: {n_classes}\")"
   ]
  },
  {
   "cell_type": "markdown",
   "id": "508ab1f2",
   "metadata": {},
   "source": [
    "## Simple baseline model definition, compilation, and training\n",
    "This section defines, compiles, and trains a baseline neural network model on the MNIST dataset. The model is a simple multilayer perceptron (MLP) with Dropout, and it serves as a starting point for later comparisons with more advanced architectures (e.g., ResNet)."
   ]
  },
  {
   "cell_type": "markdown",
   "id": "3bb58733",
   "metadata": {},
   "source": [
    "### Building the model"
   ]
  },
  {
   "cell_type": "code",
   "execution_count": 248,
   "id": "e89fcc2b",
   "metadata": {},
   "outputs": [],
   "source": [
    "model = keras.Sequential([\n",
    "    Dense(units=16, input_shape=(flattened_input_shape,), activation=\"relu\"), # hidden layer\n",
    "    Dropout(0.5), # dropout\n",
    "    Dense(units=16, activation=\"relu\"), # hidden layer\n",
    "    Dense(units=n_classes, activation=\"softmax\"), # output layer\n",
    "])"
   ]
  },
  {
   "cell_type": "markdown",
   "id": "63c005af",
   "metadata": {},
   "source": [
    "### Compiling the model"
   ]
  },
  {
   "cell_type": "code",
   "execution_count": 249,
   "id": "ee3b1788",
   "metadata": {},
   "outputs": [],
   "source": [
    "# Define compile config (used later for ensemble)\n",
    "compile_config = {\n",
    "    \"optimizer\" : \"adam\",\n",
    "    \"loss\" : \"categorical_crossentropy\",\n",
    "    \"metrics\" : [\"accuracy\"]\n",
    "}\n",
    "# Compile the model\n",
    "model.compile(**compile_config)"
   ]
  },
  {
   "cell_type": "markdown",
   "id": "a1e5d2bd",
   "metadata": {},
   "source": [
    "### Training the model\n",
    "The model is trained for a fixed number of epochs with an 80/20 training-validation split."
   ]
  },
  {
   "cell_type": "code",
   "execution_count": 250,
   "id": "6a8d025c",
   "metadata": {},
   "outputs": [
    {
     "name": "stdout",
     "output_type": "stream",
     "text": [
      "Epoch 1/10\n",
      "750/750 - 1s - loss: 1.2362 - accuracy: 0.5766 - val_loss: 0.4861 - val_accuracy: 0.8757\n",
      "Epoch 2/10\n",
      "750/750 - 0s - loss: 0.8939 - accuracy: 0.6939 - val_loss: 0.3925 - val_accuracy: 0.8984\n",
      "Epoch 3/10\n",
      "750/750 - 1s - loss: 0.8213 - accuracy: 0.7207 - val_loss: 0.3574 - val_accuracy: 0.9030\n",
      "Epoch 4/10\n",
      "750/750 - 0s - loss: 0.8012 - accuracy: 0.7247 - val_loss: 0.3527 - val_accuracy: 0.9002\n",
      "Epoch 5/10\n",
      "750/750 - 0s - loss: 0.7778 - accuracy: 0.7357 - val_loss: 0.3463 - val_accuracy: 0.9019\n",
      "Epoch 6/10\n",
      "750/750 - 0s - loss: 0.7540 - accuracy: 0.7435 - val_loss: 0.3372 - val_accuracy: 0.9024\n",
      "Epoch 7/10\n",
      "750/750 - 0s - loss: 0.7479 - accuracy: 0.7448 - val_loss: 0.3323 - val_accuracy: 0.9055\n",
      "Epoch 8/10\n",
      "750/750 - 0s - loss: 0.7445 - accuracy: 0.7461 - val_loss: 0.3136 - val_accuracy: 0.9114\n",
      "Epoch 9/10\n",
      "750/750 - 0s - loss: 0.7263 - accuracy: 0.7541 - val_loss: 0.3119 - val_accuracy: 0.9087\n",
      "Epoch 10/10\n",
      "750/750 - 0s - loss: 0.7267 - accuracy: 0.7505 - val_loss: 0.3147 - val_accuracy: 0.9103\n"
     ]
    }
   ],
   "source": [
    "# Define training config (used later for ensemble)\n",
    "train_config = {\n",
    "    \"epochs\": 10,\n",
    "    \"batch_size\": 64,\n",
    "    \"validation_split\": 0.2,\n",
    "    \"shuffle\": True,\n",
    "    \"verbose\": 2\n",
    "}\n",
    "# Train the model\n",
    "history = model.fit(x_train, y_train, **train_config)"
   ]
  },
  {
   "cell_type": "markdown",
   "id": "4931d42b",
   "metadata": {},
   "source": [
    "### Visualizing training progress"
   ]
  },
  {
   "cell_type": "code",
   "execution_count": 251,
   "id": "6b61d8ca",
   "metadata": {},
   "outputs": [
    {
     "data": {
      "image/png": "[encoded data removed]",
      "text/plain": [
       "<Figure size 640x480 with 1 Axes>"
      ]
     },
     "metadata": {},
     "output_type": "display_data"
    }
   ],
   "source": [
    "# Plot trainininng vs validation accuracy\n",
    "plt.plot(history.history['accuracy'], label='Train acc')\n",
    "plt.plot(history.history['val_accuracy'], label='Val acc')\n",
    "plt.xlabel('Epoch')\n",
    "plt.ylabel('Accuracy')\n",
    "plt.legend()\n",
    "plt.title('Training vs Validation Accuracy')\n",
    "plt.show()"
   ]
  },
  {
   "cell_type": "markdown",
   "id": "60b39ee8",
   "metadata": {},
   "source": [
    "## Defining uncertainty measures\n",
    "Each method computes uncertainty in a different way. The first two (i.e., complement of the max probability and entropy) operate on a single probability vector produced by a single prediction. The third one (i.e., standard deviation of max probabilities) require multiple prediction vectors, such as those generated from ensemble models or Monte Carlo Dropout."
   ]
  },
  {
   "cell_type": "code",
   "execution_count": 252,
   "id": "5df4c5f3",
   "metadata": {},
   "outputs": [],
   "source": [
    "def compute_confidence_complement(prediction):\n",
    "    \"\"\"\n",
    "    Compute the complement of the model's confidence score (i.e., the maximum predicted probability).\n",
    "    Parameters:\n",
    "        prediction (np.ndarray): 1D array of class probabilities from a single prediction.\n",
    "    Returns:\n",
    "        float: 1 - max(probability), representing uncertainty. Higher values indicate lower confidence.\n",
    "    \"\"\"\n",
    "    return 1 - max(prediction)"
   ]
  },
  {
   "cell_type": "code",
   "execution_count": 253,
   "id": "4226e856",
   "metadata": {},
   "outputs": [],
   "source": [
    "def compute_entropy(prediction):\n",
    "    \"\"\"\n",
    "    Compute the normalized Shannon entropy of the class probability distribution.\n",
    "    Parameters:\n",
    "        prediction (np.ndarray): 1D array of class probabilities from a single prediction.\n",
    "    Returns:\n",
    "        float: Normalized entropy in [0, 1], representing uncertainty. Higher values indicate lower confidence.\n",
    "    \"\"\"\n",
    "    prediction = prediction[prediction > 0]  # remove zeros to avoid log(0)\n",
    "    entropy = -np.sum(prediction * np.log(prediction))/np.log(len(prediction))\n",
    "    return entropy"
   ]
  },
  {
   "cell_type": "code",
   "execution_count": 254,
   "id": "8cedfeff",
   "metadata": {},
   "outputs": [],
   "source": [
    "def compute_std_of_max_probs(predictions):\n",
    "    \"\"\"\n",
    "    Compute the standard deviation of the maximum class probabilities across multiple stochastic predictions for the same input.\n",
    "    Parameters:\n",
    "        predictions (np.ndarray): 2D array (num_runs x num_classes), each row is a probability vector from one prediction.\n",
    "    Returns:\n",
    "        float: Standard deviation of the max probabilities, representing uncertainty. Higher values indicate lower confidence.\n",
    "    \"\"\"\n",
    "    max_probs = np.max(predictions, axis=1)\n",
    "    standard_deviation = np.std(max_probs, axis=0)\n",
    "    return standard_deviation"
   ]
  },
  {
   "cell_type": "markdown",
   "id": "a77a8298",
   "metadata": {},
   "source": [
    "## Defining uncertainty-based metrics\n",
    "After defining basic uncertainty measures (such as predictive entropy and standard deviation of softmax scores), we now introduce higher-level metrics that leverage uncertainty measures to assess model behavior.\n",
    "The following uncertainty-based metrics are defined:\n",
    "* *Area Under Uncertainty Receiver Operating Characteristic (AU-UROC)*\n",
    "* *Accuracy With Threshold*\n",
    "* *Uncertainty Weighted Accuracy*\n"
   ]
  },
  {
   "cell_type": "code",
   "execution_count": 255,
   "id": "13528229",
   "metadata": {},
   "outputs": [],
   "source": [
    "def compute_accuracies(predictions, uncertainties, true_labels, threshold):\n",
    "    \"\"\"\n",
    "    Compute three accuracy metrics:\n",
    "    - Traditional accuracy (acc_traditional)\n",
    "    - Accuracy with threshold (acc_thresholded): only for predictions with uncertainty < threshold\n",
    "    - Uncertainty-weighted accuracy (acc_weighted): downweights correct predictions by uncertainty, upweights incorrect ones\n",
    "    Parameters:\n",
    "        predictions (np.ndarray): Predicted class probabilities (n_samples x n_classes)\n",
    "        uncertainties (np.ndarray): Uncertainty scores for each prediction (n_samples,)\n",
    "        true_labels (np.ndarray): One-hot encoded true labels (n_samples x n_classes)\n",
    "        threshold (float): Uncertainty threshold used for filtering in acc_thresholded\n",
    "    Returns:\n",
    "        tuple: (acc_traditional, acc_thresholded, acc_weighted)\n",
    "    \"\"\"\n",
    "    correct_predictions = np.array([\n",
    "        1 if np.argmax(pred) == np.argmax(true) else 0 \n",
    "        for pred, true in zip(predictions, true_labels)\n",
    "    ])\n",
    "    thresholded_correct = 0\n",
    "    thresholded_total = 0\n",
    "    weighted_sum = 0\n",
    "    for i in range(len(correct_predictions)):\n",
    "        correct = correct_predictions[i]\n",
    "        uncertainty = uncertainties[i]\n",
    "        # Uncertainty-weighted accuracy: downweight correct predictions, upweight incorrect ones\n",
    "        weighted_sum += correct * (1 - uncertainty) + (1 - correct) * uncertainty\n",
    "        # Accuracy with threshold: only count predictions under uncertainty threshold\n",
    "        if uncertainty < threshold:\n",
    "            thresholded_correct += correct\n",
    "            thresholded_total += 1\n",
    "    acc_traditional = np.mean(correct_predictions)\n",
    "    acc_weighted = weighted_sum / len(correct_predictions)\n",
    "    acc_thresholded = thresholded_correct / thresholded_total if thresholded_total > 0 else None\n",
    "    return acc_traditional, acc_thresholded, acc_weighted\n"
   ]
  },
  {
   "cell_type": "code",
   "execution_count": 256,
   "id": "c06e552c",
   "metadata": {},
   "outputs": [],
   "source": [
    "def print_accuracies(acc_traditional, acc_thresholded, acc_weighted):\n",
    "    \"\"\"\n",
    "    Print the three accuracy metrics.\n",
    "    Parameters:\n",
    "        acc_traditional (float): Traditional accuracy.\n",
    "        acc_thresholded (float or None): Accuracy with uncertainty < threshold. May be None if no predictions qualify.\n",
    "        acc_weighted (float): Uncertainty-weighted accuracy.\n",
    "    \"\"\"\n",
    "    print(f\"Traditional accuracy:\\t\\t{acc_traditional*100:.2f}%\")\n",
    "    if acc_thresholded is not None: \n",
    "        print(f\"Thresholded accuracy:\\t\\t{acc_thresholded*100:.2f}%\")\n",
    "    else:\n",
    "        print(f\"Thresholded accuracy:\\t\\tundefined\")\n",
    "    print(f\"Uncertainty weighted accuracy:\\t{acc_weighted*100:.2f}%\")"
   ]
  },
  {
   "cell_type": "code",
   "execution_count": 257,
   "id": "acaa31f7",
   "metadata": {},
   "outputs": [],
   "source": [
    "def compute_uroc(predictions, uncertainties, true_labels, n_thresholds):\n",
    "    \"\"\"\n",
    "    Compute an approximation of the Uncertainty ROC curve.\n",
    "    Parameters:\n",
    "        predictions (np.ndarray): Predicted class probabilities (n_samples x n_classes)\n",
    "        uncertainties (np.ndarray): Uncertainty values for each prediction (n_samples,)\n",
    "        true_labels (np.ndarray): One-hot encoded true labels (n_samples x n_classes)\n",
    "        n_thresholds (int): Number of uncertainty thresholds to evaluate\n",
    "    Returns:\n",
    "        List[Tuple[float, float]]: List of (x, y) points where:\n",
    "            x = fraction of correct predictions flagged as unknown\n",
    "            y = fraction of incorrect predictions flagged as unknown\n",
    "    \"\"\"\n",
    "    correct_predictions = np.array([\n",
    "        1 if np.argmax(pred) == np.argmax(true) else 0 \n",
    "        for pred, true in zip(predictions, true_labels)\n",
    "    ])\n",
    "    thresholds = [i / n_thresholds for i in range(n_thresholds, -1, -1)]\n",
    "    points = []\n",
    "    for threshold in thresholds:\n",
    "        unknown_mask = np.array([1 if u > threshold else 0 for u in uncertainties])\n",
    "        correct_total = np.sum(correct_predictions)\n",
    "        incorrect_total = len(correct_predictions) - correct_total\n",
    "        unknown_on_correct = np.sum(unknown_mask * correct_predictions) if correct_total > 0 else 0\n",
    "        unknown_on_incorrect = np.sum(unknown_mask * (1 - correct_predictions)) if incorrect_total > 0 else 0\n",
    "        x = unknown_on_correct / correct_total if correct_total > 0 else 0\n",
    "        y = unknown_on_incorrect / incorrect_total if incorrect_total > 0 else 0\n",
    "        points.append((x, y))\n",
    "    return points"
   ]
  },
  {
   "cell_type": "code",
   "execution_count": 258,
   "id": "1e0da693",
   "metadata": {},
   "outputs": [],
   "source": [
    "def compute_au_uroc(points):\n",
    "    \"\"\"\n",
    "    Compute the area under the Uncertainty ROC curve using the trapezoidal rule.\n",
    "    Parameters:\n",
    "        points (List[Tuple[float, float]]): ROC points as (x, y) coordinates\n",
    "    Returns:\n",
    "        float: Area under the ROC curve (AU-UROC)\n",
    "    \"\"\"\n",
    "    x, y = zip(*points)\n",
    "    return np.trapz(np.array(y), np.array(x))"
   ]
  },
  {
   "cell_type": "code",
   "execution_count": 259,
   "id": "8ebb11b3",
   "metadata": {},
   "outputs": [],
   "source": [
    "def plot_uroc(points, area=None):\n",
    "    \"\"\"\n",
    "    Plot the Uncertainty ROC curve.\n",
    "    Parameters:\n",
    "        points (List[Tuple[float, float]]): ROC points as (x, y) coordinates\n",
    "        area (float, optional): Area under the curve to display in the title\n",
    "    \"\"\"\n",
    "    x, y = zip(*points)\n",
    "    plt.figure(figsize=(4, 4))\n",
    "    plt.plot(x, y, marker='o', linestyle='-', linewidth=2)\n",
    "    plt.fill_between(x, y, alpha=0.2)\n",
    "    plt.xlabel('Unknown on correct rate')\n",
    "    plt.ylabel('Unknown on incorrect rate')\n",
    "    title = 'Uncertainty ROC Curve'\n",
    "    if area is not None:\n",
    "        title += f' (AU-UROC = {area * 100:.2f}%)'\n",
    "    plt.title(title)\n",
    "    plt.grid(False)\n",
    "    plt.show()"
   ]
  },
  {
   "cell_type": "markdown",
   "id": "1f3d8cbb",
   "metadata": {},
   "source": [
    "## Training ensemble models\n",
    "To estimate uncertainty using ensemble methods, multiple neural networks with the same architecture but different random initializations are trained. Each model is trained independently on the same dataset."
   ]
  },
  {
   "cell_type": "code",
   "execution_count": 260,
   "id": "dc18cd83",
   "metadata": {},
   "outputs": [],
   "source": [
    "def reset_seeds(seed):\n",
    "    \"\"\"\n",
    "    Reset all relevant random seeds to ensure reproducible model training.\n",
    "    Parameters:\n",
    "        seed (int): The seed value to use for NumPy, Python's random module, and TensorFlow.\n",
    "    This function also clears the Keras backend session to reset the computational graph and \n",
    "    avoid retaining state between model trainings.\n",
    "    \"\"\"\n",
    "    clear_session()\n",
    "    np.random.seed(seed)\n",
    "    random.seed(seed)\n",
    "    tf.random.set_seed(seed)\n",
    "\n",
    "def train_ensamble_models(model, compile_config, train_config, n_models):\n",
    "    \"\"\"\n",
    "    Train an ensemble of models using the same architecture and training configuration of the given model.\n",
    "    Parameters:\n",
    "        base_model (keras.Sequential): The original model to replicate.\n",
    "        compile_config (dict): Dictionary of compile arguments (e.g., optimizer, loss, metrics).\n",
    "        train_config (dict): Dictionary of training arguments (e.g., epochs, batch_size).\n",
    "        n_models (int): Number of models to train in the ensemble.\n",
    "    Returns:\n",
    "        List[keras.Sequential]: A list of trained Keras models, each trained independently, and including the original model.\n",
    "    \"\"\"\n",
    "    models = [Sequential.from_config(model.get_config()) for _ in range(n_models-1)] # only works for Sequential for now\n",
    "    for i, m in enumerate(models):\n",
    "        print(f\"-- Training model {i+1}:\")\n",
    "        reset_seeds(42 + i)\n",
    "        m.compile(**compile_config)\n",
    "        m.fit(x_train, y_train, **train_config)\n",
    "    models.append(model) # add the starting model\n",
    "    return models"
   ]
  },
  {
   "cell_type": "code",
   "execution_count": 261,
   "id": "18b2d0c4",
   "metadata": {},
   "outputs": [
    {
     "name": "stdout",
     "output_type": "stream",
     "text": [
      "-- Training model 1:\n",
      "Epoch 1/10\n",
      "750/750 - 0s - loss: 1.3083 - accuracy: 0.5373 - val_loss: 0.5385 - val_accuracy: 0.8771\n",
      "Epoch 2/10\n",
      "750/750 - 0s - loss: 0.9064 - accuracy: 0.6863 - val_loss: 0.4351 - val_accuracy: 0.8932\n",
      "Epoch 3/10\n",
      "750/750 - 0s - loss: 0.8472 - accuracy: 0.7097 - val_loss: 0.4105 - val_accuracy: 0.8972\n",
      "Epoch 4/10\n",
      "750/750 - 0s - loss: 0.8180 - accuracy: 0.7226 - val_loss: 0.4054 - val_accuracy: 0.8992\n",
      "Epoch 5/10\n",
      "750/750 - 0s - loss: 0.8029 - accuracy: 0.7290 - val_loss: 0.3975 - val_accuracy: 0.9034\n",
      "Epoch 6/10\n",
      "750/750 - 0s - loss: 0.7834 - accuracy: 0.7398 - val_loss: 0.3819 - val_accuracy: 0.9105\n",
      "Epoch 7/10\n",
      "750/750 - 0s - loss: 0.7670 - accuracy: 0.7433 - val_loss: 0.3939 - val_accuracy: 0.9108\n",
      "Epoch 8/10\n",
      "750/750 - 0s - loss: 0.7582 - accuracy: 0.7462 - val_loss: 0.3778 - val_accuracy: 0.9068\n",
      "Epoch 9/10\n",
      "750/750 - 0s - loss: 0.7579 - accuracy: 0.7461 - val_loss: 0.3928 - val_accuracy: 0.9051\n",
      "Epoch 10/10\n",
      "750/750 - 0s - loss: 0.7426 - accuracy: 0.7530 - val_loss: 0.3938 - val_accuracy: 0.9066\n",
      "-- Training model 2:\n",
      "Epoch 1/10\n",
      "750/750 - 1s - loss: 1.3843 - accuracy: 0.4922 - val_loss: 0.5689 - val_accuracy: 0.8730\n",
      "Epoch 2/10\n",
      "750/750 - 0s - loss: 0.9969 - accuracy: 0.6312 - val_loss: 0.4674 - val_accuracy: 0.8928\n",
      "Epoch 3/10\n",
      "750/750 - 0s - loss: 0.9180 - accuracy: 0.6649 - val_loss: 0.4251 - val_accuracy: 0.9075\n",
      "Epoch 4/10\n",
      "750/750 - 0s - loss: 0.8377 - accuracy: 0.7052 - val_loss: 0.4001 - val_accuracy: 0.9058\n",
      "Epoch 5/10\n",
      "750/750 - 0s - loss: 0.8062 - accuracy: 0.7174 - val_loss: 0.3636 - val_accuracy: 0.9095\n",
      "Epoch 6/10\n",
      "750/750 - 0s - loss: 0.7750 - accuracy: 0.7298 - val_loss: 0.3704 - val_accuracy: 0.9103\n",
      "Epoch 7/10\n",
      "750/750 - 0s - loss: 0.7666 - accuracy: 0.7312 - val_loss: 0.3496 - val_accuracy: 0.9125\n",
      "Epoch 8/10\n",
      "750/750 - 0s - loss: 0.7552 - accuracy: 0.7380 - val_loss: 0.3625 - val_accuracy: 0.9136\n",
      "Epoch 9/10\n",
      "750/750 - 0s - loss: 0.7474 - accuracy: 0.7397 - val_loss: 0.3456 - val_accuracy: 0.9144\n",
      "Epoch 10/10\n",
      "750/750 - 0s - loss: 0.7366 - accuracy: 0.7410 - val_loss: 0.3586 - val_accuracy: 0.9143\n",
      "-- Training model 3:\n",
      "Epoch 1/10\n",
      "750/750 - 1s - loss: 1.1956 - accuracy: 0.5782 - val_loss: 0.4485 - val_accuracy: 0.8887\n",
      "Epoch 2/10\n",
      "750/750 - 0s - loss: 0.8615 - accuracy: 0.6988 - val_loss: 0.3739 - val_accuracy: 0.9026\n",
      "Epoch 3/10\n",
      "750/750 - 0s - loss: 0.8118 - accuracy: 0.7182 - val_loss: 0.3483 - val_accuracy: 0.9081\n",
      "Epoch 4/10\n",
      "750/750 - 0s - loss: 0.7792 - accuracy: 0.7317 - val_loss: 0.3348 - val_accuracy: 0.9088\n",
      "Epoch 5/10\n",
      "750/750 - 0s - loss: 0.7639 - accuracy: 0.7381 - val_loss: 0.3299 - val_accuracy: 0.9103\n",
      "Epoch 6/10\n",
      "750/750 - 0s - loss: 0.7484 - accuracy: 0.7462 - val_loss: 0.3295 - val_accuracy: 0.9068\n",
      "Epoch 7/10\n",
      "750/750 - 0s - loss: 0.7410 - accuracy: 0.7480 - val_loss: 0.3300 - val_accuracy: 0.9094\n",
      "Epoch 8/10\n",
      "750/750 - 0s - loss: 0.7338 - accuracy: 0.7513 - val_loss: 0.3226 - val_accuracy: 0.9108\n",
      "Epoch 9/10\n",
      "750/750 - 1s - loss: 0.7250 - accuracy: 0.7552 - val_loss: 0.3267 - val_accuracy: 0.9107\n",
      "Epoch 10/10\n",
      "750/750 - 0s - loss: 0.7197 - accuracy: 0.7554 - val_loss: 0.3229 - val_accuracy: 0.9097\n",
      "-- Training model 4:\n",
      "Epoch 1/10\n",
      "750/750 - 1s - loss: 1.2196 - accuracy: 0.5713 - val_loss: 0.4868 - val_accuracy: 0.8752\n",
      "Epoch 2/10\n",
      "750/750 - 1s - loss: 0.9007 - accuracy: 0.6860 - val_loss: 0.4136 - val_accuracy: 0.8898\n",
      "Epoch 3/10\n",
      "750/750 - 0s - loss: 0.8399 - accuracy: 0.7089 - val_loss: 0.3712 - val_accuracy: 0.8992\n",
      "Epoch 4/10\n",
      "750/750 - 0s - loss: 0.8077 - accuracy: 0.7239 - val_loss: 0.3757 - val_accuracy: 0.8992\n",
      "Epoch 5/10\n",
      "750/750 - 0s - loss: 0.7916 - accuracy: 0.7258 - val_loss: 0.3465 - val_accuracy: 0.9051\n",
      "Epoch 6/10\n",
      "750/750 - 0s - loss: 0.7714 - accuracy: 0.7372 - val_loss: 0.3557 - val_accuracy: 0.9049\n",
      "Epoch 7/10\n",
      "750/750 - 0s - loss: 0.7631 - accuracy: 0.7393 - val_loss: 0.3453 - val_accuracy: 0.9053\n",
      "Epoch 8/10\n",
      "750/750 - 0s - loss: 0.7522 - accuracy: 0.7449 - val_loss: 0.3482 - val_accuracy: 0.9051\n",
      "Epoch 9/10\n",
      "750/750 - 0s - loss: 0.7373 - accuracy: 0.7509 - val_loss: 0.3632 - val_accuracy: 0.9055\n",
      "Epoch 10/10\n",
      "750/750 - 0s - loss: 0.7243 - accuracy: 0.7583 - val_loss: 0.3498 - val_accuracy: 0.9069\n"
     ]
    }
   ],
   "source": [
    "ensamble_models = train_ensamble_models(model, compile_config, train_config, n_models=5)"
   ]
  },
  {
   "cell_type": "markdown",
   "id": "b5304bdb",
   "metadata": {},
   "source": [
    "## Applying uncertainty measures and uncertainty based metrics\n",
    "In this section, we apply the previously defined uncertainty measures and metrics to analyze the behavior of the trained model on the MNIST dataset."
   ]
  },
  {
   "cell_type": "markdown",
   "id": "bf6dcb8b",
   "metadata": {},
   "source": [
    "### Uncertainty measures"
   ]
  },
  {
   "cell_type": "code",
   "execution_count": 262,
   "id": "b10f0475",
   "metadata": {},
   "outputs": [
    {
     "name": "stdout",
     "output_type": "stream",
     "text": [
      "Single-pass predictions shape: (10000, 10)\n"
     ]
    }
   ],
   "source": [
    "# Get softmax predictions from a single deterministic prediction (used for entropy and max complement)\n",
    "predictions = model.predict(x_test)\n",
    "print(f\"Single-pass predictions shape: {predictions.shape}\")"
   ]
  },
  {
   "cell_type": "code",
   "execution_count": 263,
   "id": "2dc3bf8e",
   "metadata": {},
   "outputs": [
    {
     "name": "stdout",
     "output_type": "stream",
     "text": [
      "MC Dropout predictions shape: (5, 10000, 10)\n"
     ]
    }
   ],
   "source": [
    "# Generate multiple stochastic predictions using Monte Carlo Dropout\n",
    "n_mc_passes  = 5\n",
    "mc_predictions = np.array([model(x_test, training=True) for _ in range(n_mc_passes)])\n",
    "print(f\"MC Dropout predictions shape: {mc_predictions.shape}\")  # Expect (n_mc_passes, n_samples, n_classes)"
   ]
  },
  {
   "cell_type": "code",
   "execution_count": 264,
   "id": "1f76a79d",
   "metadata": {},
   "outputs": [
    {
     "name": "stdout",
     "output_type": "stream",
     "text": [
      "Ensemble predictions shape: (5, 10000, 10)\n"
     ]
    }
   ],
   "source": [
    "# Generate predictions from each model in the ensemble\n",
    "ensemble_predictions = np.array([model(x_test, training=False) for model in ensamble_models])\n",
    "print(f\"Ensemble predictions shape: {ensemble_predictions.shape}\")  # Expect (n_models, n_samples, n_classes)"
   ]
  },
  {
   "cell_type": "code",
   "execution_count": 265,
   "id": "c7e89375",
   "metadata": {},
   "outputs": [
    {
     "name": "stdout",
     "output_type": "stream",
     "text": [
      "\n",
      "Mean uncertainty scores:\n",
      "  Confidence Complement: 13.91%\n",
      "  Entropy:               18.54%\n",
      "  MC Dropout:            17.09%\n",
      "  Ensemble:              8.09%\n"
     ]
    }
   ],
   "source": [
    "# Extract predicted and true class labels\n",
    "predicted_labels = np.argmax(predictions, axis=1)\n",
    "true_labels = np.argmax(y_test, axis=1)\n",
    "# Compute uncertainty scores for single-pass predictions\n",
    "uncertainty_confidence_complement = np.array([compute_confidence_complement(p) for p in predictions])\n",
    "uncertainty_entropy = np.array([compute_entropy(p) for p in predictions])\n",
    "# Compute MC Dropout-based uncertainty (std of max probs over multiple runs)\n",
    "mean_mc_predictions = np.mean(mc_predictions, axis=0)\n",
    "mc_predicted_labels = np.argmax(mean_mc_predictions, axis=1)\n",
    "mc_predictions_stacked = np.moveaxis(mc_predictions, 1, 0) # Group predictions by sample\n",
    "uncertainty_mc_dropout = np.array([compute_std_of_max_probs(p) for p in mc_predictions_stacked])\n",
    "# Compute Ensemble-based uncertainty (std of max probs over ensemble members)\n",
    "mean_ensemble_predictions = np.mean(ensemble_predictions, axis=0)\n",
    "ensemble_predicted_labels = np.argmax(mean_ensemble_predictions, axis=1)\n",
    "ensemble_predictions_stacked = np.moveaxis(ensemble_predictions, 1, 0) # Group predictions by sample\n",
    "uncertainty_ensemble = np.array([compute_std_of_max_probs(p) for p in ensemble_predictions_stacked])\n",
    "# Print quick summary of average uncertainties\n",
    "print(\"\\nMean uncertainty scores:\")\n",
    "print(f\"  Confidence Complement: {np.mean(uncertainty_confidence_complement)*100:.2f}%\")\n",
    "print(f\"  Entropy:               {np.mean(uncertainty_entropy)*100:.2f}%\")\n",
    "print(f\"  MC Dropout:            {np.mean(uncertainty_mc_dropout)*100:.2f}%\")\n",
    "print(f\"  Ensemble:              {np.mean(uncertainty_ensemble)*100:.2f}%\")"
   ]
  },
  {
   "cell_type": "code",
   "execution_count": 266,
   "id": "4f9455b1",
   "metadata": {},
   "outputs": [
    {
     "name": "stdout",
     "output_type": "stream",
     "text": [
      "Uncertainty Summary Statistics\n",
      "+-------------------+--------------------+-----------+--------------+------------+\n",
      "|   Uncertainty [%] |   Conf. Complement |   Entropy |   MC Dropout |   Ensemble |\n",
      "+===================+====================+===========+==============+============+\n",
      "|               Min |               0.00 |      0.00 |         0.00 |       0.11 |\n",
      "+-------------------+--------------------+-----------+--------------+------------+\n",
      "|               Max |              84.06 |     95.32 |        36.99 |      30.07 |\n",
      "+-------------------+--------------------+-----------+--------------+------------+\n",
      "|              Mean |              13.91 |     18.54 |        17.09 |       8.09 |\n",
      "+-------------------+--------------------+-----------+--------------+------------+\n",
      "|               Std |              17.87 |     19.61 |         8.00 |       5.35 |\n",
      "+-------------------+--------------------+-----------+--------------+------------+\n"
     ]
    }
   ],
   "source": [
    "# Summarize uncertainty statistics\n",
    "uncertainty_labels = [\"Conf. Complement\", \"Entropy\", \"MC Dropout\", \"Ensemble\"]\n",
    "uncertainty_measures = [\n",
    "    uncertainty_confidence_complement,\n",
    "    uncertainty_entropy,\n",
    "    uncertainty_mc_dropout,\n",
    "    uncertainty_ensemble\n",
    "]\n",
    "summary_data = [\n",
    "    [\"Uncertainty [%]\"] + uncertainty_labels,\n",
    "    [\"Min\"]  + [100*np.min(u) for u in uncertainty_measures],\n",
    "    [\"Max\"]  + [100*np.max(u) for u in uncertainty_measures],\n",
    "    [\"Mean\"] + [100*np.mean(u) for u in uncertainty_measures],\n",
    "    [\"Std\"]  + [100*np.std(u) for u in uncertainty_measures],\n",
    "]\n",
    "print(\"Uncertainty Summary Statistics\")\n",
    "print(tabulate(summary_data, headers=\"firstrow\", floatfmt=\".2f\", tablefmt=\"grid\", colalign=(\"right\",)))"
   ]
  },
  {
   "cell_type": "code",
   "execution_count": 267,
   "id": "c206008f",
   "metadata": {},
   "outputs": [
    {
     "data": {
      "image/png": "[encoded data removed]",
      "text/plain": [
       "<Figure size 200x200 with 1 Axes>"
      ]
     },
     "metadata": {},
     "output_type": "display_data"
    },
    {
     "name": "stdout",
     "output_type": "stream",
     "text": [
      "Uncertainty measures for sample 8:\n",
      "  ▸ Single prediction - predicted 4:\n",
      "     - Entropy = 37.05%\n",
      "     - Max Complement = 29.79%\n",
      "  ▸ MC Dropout - predicted 6:\n",
      "     - Uncertainty = 22.06%\n",
      "  ▸ Ensemble - predicted 6:\n",
      "     - Uncertainty = 14.80%\n"
     ]
    }
   ],
   "source": [
    "# Visualize the sample image with index 8 (found to be difficult to calssify)\n",
    "sample_index = 8\n",
    "plt.figure(figsize=(2, 2))  # Shrink the image display size\n",
    "plt.imshow(x_test[sample_index].reshape(28, 28), cmap='gray')\n",
    "plt.title(f\"Sample {sample_index}\\nTrue label: {true_labels[sample_index]}\")\n",
    "plt.axis('off')\n",
    "plt.show()\n",
    "# Print uncertainty measures and predictions\n",
    "print(f\"Uncertainty measures for sample {sample_index}:\")\n",
    "print(f\"  ▸ Single prediction - predicted {predicted_labels[sample_index]}:\")\n",
    "print(f\"     - Entropy = {uncertainty_entropy[sample_index]*100:.2f}%\")\n",
    "print(f\"     - Max Complement = {uncertainty_confidence_complement[sample_index]*100:.2f}%\")\n",
    "print(f\"  ▸ MC Dropout - predicted {mc_predicted_labels[sample_index]}:\")\n",
    "print(f\"     - Uncertainty = {uncertainty_mc_dropout[sample_index]*100:.2f}%\")\n",
    "print(f\"  ▸ Ensemble - predicted {ensemble_predicted_labels[sample_index]}:\")\n",
    "print(f\"     - Uncertainty = {uncertainty_ensemble[sample_index]*100:.2f}%\")"
   ]
  },
  {
   "cell_type": "markdown",
   "id": "43e4ae4e",
   "metadata": {},
   "source": [
    "### Uncertainty based metrics"
   ]
  },
  {
   "cell_type": "code",
   "execution_count": 268,
   "id": "ff02a9b7",
   "metadata": {},
   "outputs": [],
   "source": [
    "def evaluate_uncertainty_metrics(name, predictions, uncertainties, true_labels, threshold, n_roc_points):\n",
    "    \"\"\"\n",
    "    Evaluate a model's performance using uncertainty measures.\n",
    "    This function prints:\n",
    "    - Traditional accuracy\n",
    "    - Accuracy with threshold (only predictions below uncertainty threshold are considered)\n",
    "    - Uncertainty-weighted accuracy (downweights correct predictions by uncertainty, upweights incorrect ones)\n",
    "    - Area under the Uncertainty ROC curve (AU-UROC)\n",
    "    It also displays the UROC curve plot.\n",
    "    Parameters:\n",
    "        name (str): Name of the uncertainty method (for labeling output and plots)\n",
    "        predictions (np.ndarray): Predicted class probabilities (n_samples x n_classes)\n",
    "        uncertainties (np.ndarray): Uncertainty scores associated with each prediction (n_samples,)\n",
    "        true_labels (np.ndarray): One-hot encoded ground truth labels (n_samples x n_classes)\n",
    "        threshold (float): Uncertainty threshold for filtering predictions in accuracy-with-threshold\n",
    "        n_roc_points (int): Number of thresholds to use for UROC curve approximation\n",
    "    Returns:\n",
    "        None\n",
    "    \"\"\"\n",
    "    print(f\"\\n=== {name} ===\")\n",
    "    acc_trad, acc_thresh, acc_weighted = compute_accuracies(predictions, uncertainties, true_labels, threshold)\n",
    "    print_accuracies(acc_trad, acc_thresh, acc_weighted)\n",
    "    roc_curve = compute_uroc(predictions, uncertainties, true_labels, n_roc_points)\n",
    "    au_uroc = compute_au_uroc(roc_curve)\n",
    "    plot_uroc(roc_curve, area=au_uroc)"
   ]
  },
  {
   "cell_type": "code",
   "execution_count": 269,
   "id": "848395da",
   "metadata": {},
   "outputs": [],
   "source": [
    "# Set parameters for evaluation\n",
    "threshold = 0.2 # output is flagged as unknown if uncertainty > 20%\n",
    "roc_n_points = 20 "
   ]
  },
  {
   "cell_type": "code",
   "execution_count": 270,
   "id": "1465817c",
   "metadata": {},
   "outputs": [
    {
     "name": "stdout",
     "output_type": "stream",
     "text": [
      "\n",
      "=== Confidence Complement ===\n",
      "Traditional accuracy:\t\t90.45%\n",
      "Thresholded accuracy:\t\t98.20%\n",
      "Uncertainty weighted accuracy:\t84.88%\n"
     ]
    },
    {
     "data": {
      "image/png": "[encoded data removed]",
      "text/plain": [
       "<Figure size 400x400 with 1 Axes>"
      ]
     },
     "metadata": {},
     "output_type": "display_data"
    }
   ],
   "source": [
    "evaluate_uncertainty_metrics(\n",
    "    name=\"Confidence Complement\",\n",
    "    predictions=predictions,\n",
    "    uncertainties=uncertainty_confidence_complement,\n",
    "    true_labels=y_test,\n",
    "    threshold=threshold,\n",
    "    n_roc_points=roc_n_points\n",
    ")"
   ]
  },
  {
   "cell_type": "code",
   "execution_count": 271,
   "id": "3ff3e1ba",
   "metadata": {},
   "outputs": [
    {
     "name": "stdout",
     "output_type": "stream",
     "text": [
      "\n",
      "=== Entropy ===\n",
      "Traditional accuracy:\t\t90.45%\n",
      "Thresholded accuracy:\t\t99.02%\n",
      "Uncertainty weighted accuracy:\t81.28%\n"
     ]
    },
    {
     "data": {
      "image/png": "[encoded data removed]",
      "text/plain": [
       "<Figure size 400x400 with 1 Axes>"
      ]
     },
     "metadata": {},
     "output_type": "display_data"
    }
   ],
   "source": [
    "evaluate_uncertainty_metrics(\n",
    "    name=\"Entropy\",\n",
    "    predictions=predictions,\n",
    "    uncertainties=uncertainty_entropy,\n",
    "    true_labels=y_test,\n",
    "    threshold=threshold,\n",
    "    n_roc_points=roc_n_points\n",
    ")"
   ]
  },
  {
   "cell_type": "code",
   "execution_count": 272,
   "id": "b665d501",
   "metadata": {},
   "outputs": [
    {
     "name": "stdout",
     "output_type": "stream",
     "text": [
      "\n",
      "=== MC Dropout ===\n",
      "Traditional accuracy:\t\t89.66%\n",
      "Thresholded accuracy:\t\t86.65%\n",
      "Uncertainty weighted accuracy:\t75.72%\n"
     ]
    },
    {
     "data": {
      "image/png": "[encoded data removed]",
      "text/plain": [
       "<Figure size 400x400 with 1 Axes>"
      ]
     },
     "metadata": {},
     "output_type": "display_data"
    }
   ],
   "source": [
    "evaluate_uncertainty_metrics(\n",
    "    name=\"MC Dropout\",\n",
    "    predictions=mean_mc_predictions,\n",
    "    uncertainties=uncertainty_mc_dropout,\n",
    "    true_labels=y_test,\n",
    "    threshold=threshold,\n",
    "    n_roc_points=roc_n_points\n",
    ")"
   ]
  },
  {
   "cell_type": "code",
   "execution_count": 273,
   "id": "61b23fcf",
   "metadata": {},
   "outputs": [
    {
     "name": "stdout",
     "output_type": "stream",
     "text": [
      "\n",
      "=== Ensemble ===\n",
      "Traditional accuracy:\t\t92.30%\n",
      "Thresholded accuracy:\t\t92.71%\n",
      "Uncertainty weighted accuracy:\t86.09%\n"
     ]
    },
    {
     "data": {
      "image/png": "[encoded data removed]",
      "text/plain": [
       "<Figure size 400x400 with 1 Axes>"
      ]
     },
     "metadata": {},
     "output_type": "display_data"
    }
   ],
   "source": [
    "evaluate_uncertainty_metrics(\n",
    "    name=\"Ensemble\",\n",
    "    predictions=mean_ensemble_predictions,\n",
    "    uncertainties=uncertainty_ensemble,\n",
    "    true_labels=y_test,\n",
    "    threshold=threshold,\n",
    "    n_roc_points=roc_n_points\n",
    ")"
   ]
  }
 ],
 "metadata": {
  "kernelspec": {
   "display_name": "env",
   "language": "python",
   "name": "python3"
  },
  "language_info": {
   "codemirror_mode": {
    "name": "ipython",
    "version": 3
   },
   "file_extension": ".py",
   "mimetype": "text/x-python",
   "name": "python",
   "nbconvert_exporter": "python",
   "pygments_lexer": "ipython3",
   "version": "3.8.6"
  }
 },
 "nbformat": 4,
 "nbformat_minor": 5
}
