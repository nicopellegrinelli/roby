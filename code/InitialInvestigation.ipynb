{
 "cells": [
  {
   "cell_type": "markdown",
   "id": "8b4acfec",
   "metadata": {},
   "source": [
    "# Initial Investigations: Neural Networks with Uncertainty\n",
    "\n",
    "This notebook explores building neural networks that provide uncertainty estimates and evaluates metrics that leverage these uncertainty measures."
   ]
  },
  {
   "cell_type": "markdown",
   "id": "5264b264",
   "metadata": {},
   "source": [
    "## Importing all the libraries"
   ]
  },
  {
   "cell_type": "code",
   "execution_count": 37,
   "id": "58ef2583",
   "metadata": {},
   "outputs": [],
   "source": [
    "import numpy as np\n",
    "import keras\n",
    "from keras.layers import Dense\n",
    "from keras.datasets.mnist import load_data\n",
    "from keras.utils import to_categorical\n",
    "from math import log"
   ]
  },
  {
   "cell_type": "markdown",
   "id": "01c9c50f",
   "metadata": {},
   "source": [
    "## Loading the dataset"
   ]
  },
  {
   "cell_type": "code",
   "execution_count": 38,
   "id": "aecec1bb",
   "metadata": {},
   "outputs": [],
   "source": [
    "(x_train, y_train), (x_test, y_test) = load_data(\"mnist.npz\")\n",
    "# Normalize the data\n",
    "x_train = x_train.astype(\"float32\") / 255\n",
    "x_test = x_test.astype(\"float32\") / 255\n",
    "# Flatten the data (from 28x28 to 784)\n",
    "input_shape = x_train[0].shape[0] * x_train[0].shape[1]\n",
    "x_train = x_train.reshape((x_train.shape[0], input_shape))\n",
    "x_test = x_test.reshape((x_test.shape[0], input_shape))\n",
    "# Convert labels to one-hot encoding (needed for categorical crossentropy)\n",
    "n_classes = len(np.unique(y_train))\n",
    "y_train = to_categorical(y_train, n_classes)\n",
    "y_test = to_categorical(y_test, n_classes)"
   ]
  },
  {
   "cell_type": "markdown",
   "id": "508ab1f2",
   "metadata": {},
   "source": [
    "## Building the model"
   ]
  },
  {
   "cell_type": "code",
   "execution_count": 39,
   "id": "e89fcc2b",
   "metadata": {},
   "outputs": [],
   "source": [
    "model = keras.Sequential([\n",
    "    Dense(units=4, input_shape=(input_shape,), activation=\"relu\"), # hidden layer\n",
    "    Dense(units=n_classes, activation=\"softmax\"), # output layer\n",
    "])"
   ]
  },
  {
   "cell_type": "markdown",
   "id": "63c005af",
   "metadata": {},
   "source": [
    "## Compiling the model"
   ]
  },
  {
   "cell_type": "code",
   "execution_count": 40,
   "id": "ee3b1788",
   "metadata": {},
   "outputs": [],
   "source": [
    "model.compile(\n",
    "    optimizer=\"adam\",\n",
    "    loss=\"categorical_crossentropy\",\n",
    "    metrics=[\"accuracy\"]\n",
    ")"
   ]
  },
  {
   "cell_type": "markdown",
   "id": "a1e5d2bd",
   "metadata": {},
   "source": [
    "## Training the model"
   ]
  },
  {
   "cell_type": "code",
   "execution_count": 41,
   "id": "6a8d025c",
   "metadata": {},
   "outputs": [
    {
     "name": "stdout",
     "output_type": "stream",
     "text": [
      "480/480 [==============================] - 0s 793us/step - loss: 1.2937 - accuracy: 0.5494 - val_loss: 0.8192 - val_accuracy: 0.7258\n"
     ]
    },
    {
     "data": {
      "text/plain": [
       "<tensorflow.python.keras.callbacks.History at 0x1c5561bb880>"
      ]
     },
     "execution_count": 41,
     "metadata": {},
     "output_type": "execute_result"
    }
   ],
   "source": [
    "model.fit(x_train, y_train, epochs=1, batch_size=100, validation_split=0.2)"
   ]
  },
  {
   "cell_type": "markdown",
   "id": "b714ea69",
   "metadata": {},
   "source": [
    "## Computing entropy on the first 10 samples in test dataset"
   ]
  },
  {
   "cell_type": "code",
   "execution_count": null,
   "id": "5ab2855c",
   "metadata": {},
   "outputs": [
    {
     "ename": "NameError",
     "evalue": "name 'acc_was' is not defined",
     "output_type": "error",
     "traceback": [
      "\u001b[1;31m---------------------------------------------------------------------------\u001b[0m",
      "\u001b[1;31mNameError\u001b[0m                                 Traceback (most recent call last)",
      "Cell \u001b[1;32mIn[47], line 1\u001b[0m\n\u001b[1;32m----> 1\u001b[0m \u001b[43macc_was\u001b[49m\n\u001b[0;32m      3\u001b[0m \u001b[38;5;28;01mfor\u001b[39;00m i \u001b[38;5;129;01min\u001b[39;00m \u001b[38;5;28mrange\u001b[39m (\u001b[38;5;241m100\u001b[39m):\n\u001b[0;32m      4\u001b[0m     prediction \u001b[38;5;241m=\u001b[39m model\u001b[38;5;241m.\u001b[39mpredict(np\u001b[38;5;241m.\u001b[39marray([x_test[i]]))[\u001b[38;5;241m0\u001b[39m]\n",
      "\u001b[1;31mNameError\u001b[0m: name 'acc_was' is not defined"
     ]
    }
   ],
   "source": [
    "for i in range (10):\n",
    "    prediction = model.predict(np.array([x_test[i]]))[0]\n",
    "    print(prediction)\n",
    "    actual = np.argmax(y_test[i])\n",
    "    output = np.argmax(prediction)\n",
    "    entropy = 0\n",
    "    for prob in prediction:\n",
    "        entropy += -prob*log(prob)\n",
    "    uncertainty = entropy / log(len(prediction)) # Normalize entropy to get uncertainty\n",
    "    print(f\"Example {i}:\")\n",
    "    print(f\"\\tActual label:\\t{actual}\\n\\tPrediction:\\t{output}\")\n",
    "    print(f\"\\tUncertainty:\\t{uncertainty*100:.2f}%\")"
   ]
  },
  {
   "cell_type": "code",
   "execution_count": null,
   "id": "9004f507",
   "metadata": {},
   "outputs": [],
   "source": []
  }
 ],
 "metadata": {
  "kernelspec": {
   "display_name": "env",
   "language": "python",
   "name": "python3"
  },
  "language_info": {
   "codemirror_mode": {
    "name": "ipython",
    "version": 3
   },
   "file_extension": ".py",
   "mimetype": "text/x-python",
   "name": "python",
   "nbconvert_exporter": "python",
   "pygments_lexer": "ipython3",
   "version": "3.8.6"
  }
 },
 "nbformat": 4,
 "nbformat_minor": 5
}
